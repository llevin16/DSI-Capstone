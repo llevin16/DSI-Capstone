{
 "cells": [
  {
   "cell_type": "code",
   "execution_count": 1,
   "metadata": {
    "collapsed": true
   },
   "outputs": [],
   "source": [
    "import pandas as pd"
   ]
  },
  {
   "cell_type": "code",
   "execution_count": 2,
   "metadata": {
    "collapsed": false
   },
   "outputs": [],
   "source": [
    "epl_path = []\n",
    "epl_date = []\n",
    "for i in range(1,13):\n",
    "    for k in range(1,32):\n",
    "        if i < 8:\n",
    "            if k < 10:\n",
    "                epl_path.append('/home/llevin/capstone/FootballData/EPL 1992 - 2015/2015/2016-0'+str(i)+'-0'+str(k)+'.all-epl-games.json')\n",
    "                epl_date.append('0'+str(i)+'-0'+str(k))\n",
    "            else:\n",
    "                epl_path.append('/home/llevin/capstone/FootballData/EPL 1992 - 2015/2015/2016-0'+str(i)+'-'+str(k)+'.all-epl-games.json')\n",
    "                epl_date.append('0'+str(i)+'-'+str(k))\n",
    "        elif i < 10:\n",
    "            if k < 10:\n",
    "                epl_path.append('/home/llevin/capstone/FootballData/EPL 1992 - 2015/2015/2015-0'+str(i)+'-0'+str(k)+'.all-epl-games.json')\n",
    "                epl_date.append('0'+str(i)+'-0'+str(k))\n",
    "            else:\n",
    "                epl_path.append('/home/llevin/capstone/FootballData/EPL 1992 - 2015/2015/2015-0'+str(i)+'-'+str(k)+'.all-epl-games.json')\n",
    "                epl_date.append('0'+str(i)+'-'+str(k))\n",
    "        else:\n",
    "            if k < 10:\n",
    "                epl_path.append('/home/llevin/capstone/FootballData/EPL 1992 - 2015/2015/2015-'+str(i)+'-0'+str(k)+'.all-epl-games.json')\n",
    "                epl_date.append(str(i)+'-0'+str(k))\n",
    "            else:\n",
    "                epl_path.append('/home/llevin/capstone/FootballData/EPL 1992 - 2015/2015/2015-'+str(i)+'-'+str(k)+'.all-epl-games.json')\n",
    "                epl_date.append(str(i)+'-'+str(k))"
   ]
  },
  {
   "cell_type": "code",
   "execution_count": 3,
   "metadata": {
    "collapsed": false
   },
   "outputs": [
    {
     "data": {
      "text/plain": [
       "['/home/llevin/capstone/FootballData/EPL 1992 - 2015/2015/2016-01-01.all-epl-games.json',\n",
       " '/home/llevin/capstone/FootballData/EPL 1992 - 2015/2015/2016-01-02.all-epl-games.json',\n",
       " '/home/llevin/capstone/FootballData/EPL 1992 - 2015/2015/2016-01-03.all-epl-games.json',\n",
       " '/home/llevin/capstone/FootballData/EPL 1992 - 2015/2015/2016-01-04.all-epl-games.json',\n",
       " '/home/llevin/capstone/FootballData/EPL 1992 - 2015/2015/2016-01-05.all-epl-games.json',\n",
       " '/home/llevin/capstone/FootballData/EPL 1992 - 2015/2015/2016-01-06.all-epl-games.json',\n",
       " '/home/llevin/capstone/FootballData/EPL 1992 - 2015/2015/2016-01-07.all-epl-games.json',\n",
       " '/home/llevin/capstone/FootballData/EPL 1992 - 2015/2015/2016-01-08.all-epl-games.json',\n",
       " '/home/llevin/capstone/FootballData/EPL 1992 - 2015/2015/2016-01-09.all-epl-games.json',\n",
       " '/home/llevin/capstone/FootballData/EPL 1992 - 2015/2015/2016-01-10.all-epl-games.json']"
      ]
     },
     "execution_count": 3,
     "metadata": {},
     "output_type": "execute_result"
    }
   ],
   "source": [
    "epl_path[0:10]"
   ]
  },
  {
   "cell_type": "code",
   "execution_count": 4,
   "metadata": {
    "collapsed": false
   },
   "outputs": [],
   "source": [
    "epl_dat = pd.DataFrame()\n",
    "for path, date in zip(epl_path,epl_date):\n",
    "    try:\n",
    "        temp_df = pd.read_json(path)\n",
    "        temp_df['fixture_date'] = date\n",
    "        sequence = [epl_dat,temp_df]\n",
    "        epl_dat = pd.concat(sequence)\n",
    "    except:\n",
    "        pass"
   ]
  },
  {
   "cell_type": "code",
   "execution_count": 5,
   "metadata": {
    "collapsed": false
   },
   "outputs": [
    {
     "name": "stdout",
     "output_type": "stream",
     "text": [
      "<class 'pandas.core.frame.DataFrame'>\n",
      "Float64Index: 63590 entries, 0.0 to 189.0\n",
      "Data columns (total 8 columns):\n",
      "away            63590 non-null object\n",
      "fixture_date    63590 non-null object\n",
      "home            63590 non-null object\n",
      "id              63590 non-null float64\n",
      "link            63590 non-null object\n",
      "score           63590 non-null object\n",
      "status          63590 non-null object\n",
      "time            63590 non-null float64\n",
      "dtypes: float64(2), object(6)\n",
      "memory usage: 4.4+ MB\n"
     ]
    }
   ],
   "source": [
    "epl_dat.info()"
   ]
  },
  {
   "cell_type": "code",
   "execution_count": 7,
   "metadata": {
    "collapsed": false
   },
   "outputs": [
    {
     "data": {
      "text/html": [
       "<div>\n",
       "<table border=\"1\" class=\"dataframe\">\n",
       "  <thead>\n",
       "    <tr style=\"text-align: right;\">\n",
       "      <th></th>\n",
       "      <th>away</th>\n",
       "      <th>fixture_date</th>\n",
       "      <th>home</th>\n",
       "      <th>id</th>\n",
       "      <th>link</th>\n",
       "      <th>score</th>\n",
       "      <th>status</th>\n",
       "      <th>time</th>\n",
       "    </tr>\n",
       "  </thead>\n",
       "  <tbody>\n",
       "    <tr>\n",
       "      <th>0.0</th>\n",
       "      <td>Liverpool FC</td>\n",
       "      <td>01-01</td>\n",
       "      <td>Sunderland AFC</td>\n",
       "      <td>2043275.0</td>\n",
       "      <td>/en-us/match/sunderland-vs-liverpool/2043275</td>\n",
       "      <td>[0 ,  1]</td>\n",
       "      <td>played</td>\n",
       "      <td>1.451505e+09</td>\n",
       "    </tr>\n",
       "    <tr>\n",
       "      <th>1.0</th>\n",
       "      <td>Manchester City FC</td>\n",
       "      <td>01-01</td>\n",
       "      <td>Leicester City FC</td>\n",
       "      <td>2043277.0</td>\n",
       "      <td>/en-us/match/leicester-city-vs-manchester-city...</td>\n",
       "      <td>[0 ,  0]</td>\n",
       "      <td>played</td>\n",
       "      <td>1.451418e+09</td>\n",
       "    </tr>\n",
       "    <tr>\n",
       "      <th>2.0</th>\n",
       "      <td>AFC Bournemouth</td>\n",
       "      <td>01-01</td>\n",
       "      <td>Arsenal FC</td>\n",
       "      <td>2043272.0</td>\n",
       "      <td>/en-us/match/arsenal-vs-afc-bournemouth/2043272</td>\n",
       "      <td>[2 ,  0]</td>\n",
       "      <td>played</td>\n",
       "      <td>1.451324e+09</td>\n",
       "    </tr>\n",
       "    <tr>\n",
       "      <th>3.0</th>\n",
       "      <td>Swansea City AFC</td>\n",
       "      <td>01-01</td>\n",
       "      <td>Crystal Palace FC</td>\n",
       "      <td>2043284.0</td>\n",
       "      <td>/en-us/match/crystal-palace-vs-swansea-city/20...</td>\n",
       "      <td>[0 ,  0]</td>\n",
       "      <td>played</td>\n",
       "      <td>1.451315e+09</td>\n",
       "    </tr>\n",
       "    <tr>\n",
       "      <th>4.0</th>\n",
       "      <td>Stoke City FC</td>\n",
       "      <td>01-01</td>\n",
       "      <td>Everton FC</td>\n",
       "      <td>2043283.0</td>\n",
       "      <td>/en-us/match/everton-vs-stoke-city/2043283</td>\n",
       "      <td>[3 ,  4]</td>\n",
       "      <td>played</td>\n",
       "      <td>1.451315e+09</td>\n",
       "    </tr>\n",
       "  </tbody>\n",
       "</table>\n",
       "</div>"
      ],
      "text/plain": [
       "                   away fixture_date               home         id  \\\n",
       "0.0        Liverpool FC        01-01     Sunderland AFC  2043275.0   \n",
       "1.0  Manchester City FC        01-01  Leicester City FC  2043277.0   \n",
       "2.0     AFC Bournemouth        01-01         Arsenal FC  2043272.0   \n",
       "3.0    Swansea City AFC        01-01  Crystal Palace FC  2043284.0   \n",
       "4.0       Stoke City FC        01-01         Everton FC  2043283.0   \n",
       "\n",
       "                                                  link     score  status  \\\n",
       "0.0       /en-us/match/sunderland-vs-liverpool/2043275  [0 ,  1]  played   \n",
       "1.0  /en-us/match/leicester-city-vs-manchester-city...  [0 ,  0]  played   \n",
       "2.0    /en-us/match/arsenal-vs-afc-bournemouth/2043272  [2 ,  0]  played   \n",
       "3.0  /en-us/match/crystal-palace-vs-swansea-city/20...  [0 ,  0]  played   \n",
       "4.0         /en-us/match/everton-vs-stoke-city/2043283  [3 ,  4]  played   \n",
       "\n",
       "             time  \n",
       "0.0  1.451505e+09  \n",
       "1.0  1.451418e+09  \n",
       "2.0  1.451324e+09  \n",
       "3.0  1.451315e+09  \n",
       "4.0  1.451315e+09  "
      ]
     },
     "execution_count": 7,
     "metadata": {},
     "output_type": "execute_result"
    }
   ],
   "source": [
    "epl_dat.head()"
   ]
  },
  {
   "cell_type": "code",
   "execution_count": 8,
   "metadata": {
    "collapsed": true
   },
   "outputs": [],
   "source": [
    "stad = pd.read_csv('/home/llevin/capstone/FootballData/other/stadiums-with-GPS-coordinates.csv')"
   ]
  },
  {
   "cell_type": "code",
   "execution_count": 10,
   "metadata": {
    "collapsed": false
   },
   "outputs": [
    {
     "data": {
      "text/html": [
       "<div>\n",
       "<table border=\"1\" class=\"dataframe\">\n",
       "  <thead>\n",
       "    <tr style=\"text-align: right;\">\n",
       "      <th></th>\n",
       "      <th>Team</th>\n",
       "      <th>FDCOUK</th>\n",
       "      <th>City</th>\n",
       "      <th>Stadium</th>\n",
       "      <th>Capacity</th>\n",
       "      <th>Latitude</th>\n",
       "      <th>Longitude</th>\n",
       "      <th>Country</th>\n",
       "    </tr>\n",
       "  </thead>\n",
       "  <tbody>\n",
       "    <tr>\n",
       "      <th>0</th>\n",
       "      <td>Arsenal</td>\n",
       "      <td>Arsenal</td>\n",
       "      <td>London</td>\n",
       "      <td>Emirates Stadium</td>\n",
       "      <td>60361</td>\n",
       "      <td>51.555000</td>\n",
       "      <td>-0.108611</td>\n",
       "      <td>England</td>\n",
       "    </tr>\n",
       "    <tr>\n",
       "      <th>1</th>\n",
       "      <td>Aston Villa</td>\n",
       "      <td>Aston Villa</td>\n",
       "      <td>Birmingham</td>\n",
       "      <td>Villa Park</td>\n",
       "      <td>42785</td>\n",
       "      <td>52.509167</td>\n",
       "      <td>-1.884722</td>\n",
       "      <td>England</td>\n",
       "    </tr>\n",
       "    <tr>\n",
       "      <th>2</th>\n",
       "      <td>Blackburn Rovers</td>\n",
       "      <td>Blackburn</td>\n",
       "      <td>Blackburn</td>\n",
       "      <td>Ewood Park</td>\n",
       "      <td>31154</td>\n",
       "      <td>53.728611</td>\n",
       "      <td>-2.489167</td>\n",
       "      <td>England</td>\n",
       "    </tr>\n",
       "    <tr>\n",
       "      <th>3</th>\n",
       "      <td>Bolton Wanderers</td>\n",
       "      <td>Bolton</td>\n",
       "      <td>Bolton</td>\n",
       "      <td>Reebok Stadium</td>\n",
       "      <td>28100</td>\n",
       "      <td>53.580556</td>\n",
       "      <td>-2.535556</td>\n",
       "      <td>England</td>\n",
       "    </tr>\n",
       "    <tr>\n",
       "      <th>4</th>\n",
       "      <td>Chelsea</td>\n",
       "      <td>Chelsea</td>\n",
       "      <td>London</td>\n",
       "      <td>Stamford Bridge</td>\n",
       "      <td>42449</td>\n",
       "      <td>51.481667</td>\n",
       "      <td>-0.191111</td>\n",
       "      <td>England</td>\n",
       "    </tr>\n",
       "  </tbody>\n",
       "</table>\n",
       "</div>"
      ],
      "text/plain": [
       "                Team       FDCOUK         City            Stadium  Capacity  \\\n",
       "0           Arsenal       Arsenal      London   Emirates Stadium      60361   \n",
       "1       Aston Villa   Aston Villa  Birmingham         Villa Park      42785   \n",
       "2  Blackburn Rovers     Blackburn   Blackburn         Ewood Park      31154   \n",
       "3  Bolton Wanderers        Bolton      Bolton     Reebok Stadium      28100   \n",
       "4           Chelsea       Chelsea      London    Stamford Bridge      42449   \n",
       "\n",
       "    Latitude  Longitude  Country  \n",
       "0  51.555000  -0.108611  England  \n",
       "1  52.509167  -1.884722  England  \n",
       "2  53.728611  -2.489167  England  \n",
       "3  53.580556  -2.535556  England  \n",
       "4  51.481667  -0.191111  England  "
      ]
     },
     "execution_count": 10,
     "metadata": {},
     "output_type": "execute_result"
    }
   ],
   "source": [
    "stad.head()"
   ]
  },
  {
   "cell_type": "code",
   "execution_count": 15,
   "metadata": {
    "collapsed": true
   },
   "outputs": [],
   "source": [
    "epl_2015_results = pd.read_json('/home/llevin/capstone/FootballData/EPL 1992 - 2015/2015-results.json')"
   ]
  },
  {
   "cell_type": "code",
   "execution_count": 16,
   "metadata": {
    "collapsed": false
   },
   "outputs": [
    {
     "data": {
      "text/html": [
       "<div>\n",
       "<table border=\"1\" class=\"dataframe\">\n",
       "  <thead>\n",
       "    <tr style=\"text-align: right;\">\n",
       "      <th></th>\n",
       "      <th>away</th>\n",
       "      <th>awayEvents</th>\n",
       "      <th>date</th>\n",
       "      <th>home</th>\n",
       "      <th>homeEvents</th>\n",
       "      <th>score</th>\n",
       "    </tr>\n",
       "  </thead>\n",
       "  <tbody>\n",
       "    <tr>\n",
       "      <th>0</th>\n",
       "      <td>Liverpool</td>\n",
       "      <td>[{u'count': u'2', u'type': u'Goals scored', u'...</td>\n",
       "      <td>31 Oct 12:45</td>\n",
       "      <td>Chelsea</td>\n",
       "      <td>[{u'count': u'1', u'type': u'Goals scored', u'...</td>\n",
       "      <td>1 - 3</td>\n",
       "    </tr>\n",
       "    <tr>\n",
       "      <th>1</th>\n",
       "      <td>Man Utd</td>\n",
       "      <td>[{u'count': u'1', u'type': u'Yellow cards', u'...</td>\n",
       "      <td>31 Oct 15:00</td>\n",
       "      <td>Crystal Palace</td>\n",
       "      <td>[{u'count': u'1', u'type': u'Yellow cards', u'...</td>\n",
       "      <td>0 - 0</td>\n",
       "    </tr>\n",
       "    <tr>\n",
       "      <th>2</th>\n",
       "      <td>Norwich</td>\n",
       "      <td>[{u'count': u'1', u'type': u'Goals scored', u'...</td>\n",
       "      <td>31 Oct 15:00</td>\n",
       "      <td>Man City</td>\n",
       "      <td>[{u'count': u'1', u'type': u'Goals scored', u'...</td>\n",
       "      <td>2 - 1</td>\n",
       "    </tr>\n",
       "    <tr>\n",
       "      <th>3</th>\n",
       "      <td>Stoke</td>\n",
       "      <td>[{u'count': u'1', u'type': u'Yellow cards', u'...</td>\n",
       "      <td>31 Oct 15:00</td>\n",
       "      <td>Newcastle</td>\n",
       "      <td>[{u'count': u'1', u'type': u'Yellow cards', u'...</td>\n",
       "      <td>0 - 0</td>\n",
       "    </tr>\n",
       "    <tr>\n",
       "      <th>4</th>\n",
       "      <td>Arsenal</td>\n",
       "      <td>[{u'count': u'1', u'type': u'Goals scored', u'...</td>\n",
       "      <td>31 Oct 15:00</td>\n",
       "      <td>Swansea</td>\n",
       "      <td>[{u'count': u'1', u'type': u'Yellow cards', u'...</td>\n",
       "      <td>0 - 3</td>\n",
       "    </tr>\n",
       "  </tbody>\n",
       "</table>\n",
       "</div>"
      ],
      "text/plain": [
       "        away                                         awayEvents          date  \\\n",
       "0  Liverpool  [{u'count': u'2', u'type': u'Goals scored', u'...  31 Oct 12:45   \n",
       "1    Man Utd  [{u'count': u'1', u'type': u'Yellow cards', u'...  31 Oct 15:00   \n",
       "2    Norwich  [{u'count': u'1', u'type': u'Goals scored', u'...  31 Oct 15:00   \n",
       "3      Stoke  [{u'count': u'1', u'type': u'Yellow cards', u'...  31 Oct 15:00   \n",
       "4    Arsenal  [{u'count': u'1', u'type': u'Goals scored', u'...  31 Oct 15:00   \n",
       "\n",
       "             home                                         homeEvents  score  \n",
       "0         Chelsea  [{u'count': u'1', u'type': u'Goals scored', u'...  1 - 3  \n",
       "1  Crystal Palace  [{u'count': u'1', u'type': u'Yellow cards', u'...  0 - 0  \n",
       "2        Man City  [{u'count': u'1', u'type': u'Goals scored', u'...  2 - 1  \n",
       "3       Newcastle  [{u'count': u'1', u'type': u'Yellow cards', u'...  0 - 0  \n",
       "4         Swansea  [{u'count': u'1', u'type': u'Yellow cards', u'...  0 - 3  "
      ]
     },
     "execution_count": 16,
     "metadata": {},
     "output_type": "execute_result"
    }
   ],
   "source": [
    "epl_2015_results.head()"
   ]
  },
  {
   "cell_type": "code",
   "execution_count": 19,
   "metadata": {
    "collapsed": false
   },
   "outputs": [
    {
     "data": {
      "text/plain": [
       "[{u'count': u'2', u'name': u'Coutinho', u'type': u'Goals scored'},\n",
       " {u'count': u'1', u'name': u'Benteke', u'type': u'Goals scored'},\n",
       " {u'count': u'1', u'name': u'Ibe', u'type': u'Assists'},\n",
       " {u'count': u'1', u'name': u'Firmino', u'type': u'Assists'},\n",
       " {u'count': u'1', u'name': u'Benteke', u'type': u'Assists'},\n",
       " {u'count': u'1', u'name': u'Lucas', u'type': u'Yellow cards'},\n",
       " {u'count': u'1', u'name': u'Coutinho', u'type': u'Yellow cards'},\n",
       " {u'count': u'1', u'name': u'Can', u'type': u'Yellow cards'},\n",
       " {u'count': u'1', u'name': u'Benteke', u'type': u'Yellow cards'},\n",
       " {u'count': u'1', u'name': u'Mignolet', u'type': u'Saves'},\n",
       " {u'count': u'3', u'name': u'Coutinho', u'type': u'Bonus'},\n",
       " {u'count': u'2', u'name': u'Benteke', u'type': u'Bonus'}]"
      ]
     },
     "execution_count": 19,
     "metadata": {},
     "output_type": "execute_result"
    }
   ],
   "source": [
    "epl_2015_results['awayEvents'][0]"
   ]
  },
  {
   "cell_type": "code",
   "execution_count": null,
   "metadata": {
    "collapsed": true
   },
   "outputs": [],
   "source": []
  },
  {
   "cell_type": "code",
   "execution_count": 4,
   "metadata": {
    "collapsed": false
   },
   "outputs": [],
   "source": [
    "epl['score'] = epl['score'].str.split('-')"
   ]
  },
  {
   "cell_type": "code",
   "execution_count": 20,
   "metadata": {
    "collapsed": false
   },
   "outputs": [
    {
     "data": {
      "text/html": [
       "<div>\n",
       "<table border=\"1\" class=\"dataframe\">\n",
       "  <thead>\n",
       "    <tr style=\"text-align: right;\">\n",
       "      <th></th>\n",
       "      <th>away</th>\n",
       "      <th>awayEvents</th>\n",
       "      <th>date</th>\n",
       "      <th>home</th>\n",
       "      <th>homeEvents</th>\n",
       "      <th>score</th>\n",
       "      <th>home_score</th>\n",
       "      <th>away_score</th>\n",
       "    </tr>\n",
       "  </thead>\n",
       "  <tbody>\n",
       "    <tr>\n",
       "      <th>0</th>\n",
       "      <td>Man Utd</td>\n",
       "      <td>[{u'count': u'1', u'type': u'Goals scored', u'...</td>\n",
       "      <td>14 Aug 19:45</td>\n",
       "      <td>Aston Villa</td>\n",
       "      <td>[{u'count': u'1', u'type': u'Yellow cards', u'...</td>\n",
       "      <td>[0 ,  1]</td>\n",
       "      <td>0</td>\n",
       "      <td>1</td>\n",
       "    </tr>\n",
       "    <tr>\n",
       "      <th>1</th>\n",
       "      <td>Everton</td>\n",
       "      <td>[{u'count': u'1', u'type': u'Goals scored', u'...</td>\n",
       "      <td>15 Aug 12:45</td>\n",
       "      <td>Southampton</td>\n",
       "      <td>[{u'count': u'1', u'type': u'Yellow cards', u'...</td>\n",
       "      <td>[0 ,  3]</td>\n",
       "      <td>0</td>\n",
       "      <td>3</td>\n",
       "    </tr>\n",
       "    <tr>\n",
       "      <th>2</th>\n",
       "      <td>Stoke</td>\n",
       "      <td>[{u'count': u'1', u'type': u'Goals scored', u'...</td>\n",
       "      <td>15 Aug 15:00</td>\n",
       "      <td>Spurs</td>\n",
       "      <td>[{u'count': u'1', u'type': u'Goals scored', u'...</td>\n",
       "      <td>[2 ,  2]</td>\n",
       "      <td>2</td>\n",
       "      <td>2</td>\n",
       "    </tr>\n",
       "    <tr>\n",
       "      <th>3</th>\n",
       "      <td>Norwich</td>\n",
       "      <td>[{u'count': u'1', u'type': u'Goals scored', u'...</td>\n",
       "      <td>15 Aug 15:00</td>\n",
       "      <td>Sunderland</td>\n",
       "      <td>[{u'count': u'1', u'type': u'Goals scored', u'...</td>\n",
       "      <td>[1 ,  3]</td>\n",
       "      <td>1</td>\n",
       "      <td>3</td>\n",
       "    </tr>\n",
       "    <tr>\n",
       "      <th>4</th>\n",
       "      <td>Newcastle</td>\n",
       "      <td>[{u'count': u'1', u'type': u'Yellow cards', u'...</td>\n",
       "      <td>15 Aug 15:00</td>\n",
       "      <td>Swansea</td>\n",
       "      <td>[{u'count': u'1', u'type': u'Goals scored', u'...</td>\n",
       "      <td>[2 ,  0]</td>\n",
       "      <td>2</td>\n",
       "      <td>0</td>\n",
       "    </tr>\n",
       "  </tbody>\n",
       "</table>\n",
       "</div>"
      ],
      "text/plain": [
       "        away                                         awayEvents          date  \\\n",
       "0    Man Utd  [{u'count': u'1', u'type': u'Goals scored', u'...  14 Aug 19:45   \n",
       "1    Everton  [{u'count': u'1', u'type': u'Goals scored', u'...  15 Aug 12:45   \n",
       "2      Stoke  [{u'count': u'1', u'type': u'Goals scored', u'...  15 Aug 15:00   \n",
       "3    Norwich  [{u'count': u'1', u'type': u'Goals scored', u'...  15 Aug 15:00   \n",
       "4  Newcastle  [{u'count': u'1', u'type': u'Yellow cards', u'...  15 Aug 15:00   \n",
       "\n",
       "          home                                         homeEvents     score  \\\n",
       "0  Aston Villa  [{u'count': u'1', u'type': u'Yellow cards', u'...  [0 ,  1]   \n",
       "1  Southampton  [{u'count': u'1', u'type': u'Yellow cards', u'...  [0 ,  3]   \n",
       "2        Spurs  [{u'count': u'1', u'type': u'Goals scored', u'...  [2 ,  2]   \n",
       "3   Sunderland  [{u'count': u'1', u'type': u'Goals scored', u'...  [1 ,  3]   \n",
       "4      Swansea  [{u'count': u'1', u'type': u'Goals scored', u'...  [2 ,  0]   \n",
       "\n",
       "  home_score away_score  \n",
       "0         0           1  \n",
       "1         0           3  \n",
       "2         2           2  \n",
       "3         1           3  \n",
       "4         2           0  "
      ]
     },
     "execution_count": 20,
     "metadata": {},
     "output_type": "execute_result"
    }
   ],
   "source": [
    "epl.head()"
   ]
  },
  {
   "cell_type": "code",
   "execution_count": 7,
   "metadata": {
    "collapsed": false
   },
   "outputs": [],
   "source": [
    "epl['home_score'] = epl['score'].map(lambda x: x[0])"
   ]
  },
  {
   "cell_type": "code",
   "execution_count": 17,
   "metadata": {
    "collapsed": false
   },
   "outputs": [],
   "source": [
    "epl.dropna(inplace=True)"
   ]
  },
  {
   "cell_type": "code",
   "execution_count": 19,
   "metadata": {
    "collapsed": false
   },
   "outputs": [],
   "source": [
    "epl['away_score'] = epl['score'].map(lambda x: x[1])"
   ]
  },
  {
   "cell_type": "code",
   "execution_count": 18,
   "metadata": {
    "collapsed": false
   },
   "outputs": [
    {
     "name": "stdout",
     "output_type": "stream",
     "text": [
      "0 [u'0 ', u' 1']\n",
      "1 [u'0 ', u' 3']\n",
      "2 [u'2 ', u' 2']\n",
      "3 [u'1 ', u' 3']\n",
      "4 [u'2 ', u' 0']\n",
      "5 [u'0 ', u' 0']\n",
      "6 [u'1 ', u' 2']\n"
     ]
    }
   ],
   "source": [
    "for i, v in enumerate(epl['score']):\n",
    "    print i, v"
   ]
  },
  {
   "cell_type": "code",
   "execution_count": 42,
   "metadata": {
    "collapsed": false
   },
   "outputs": [
    {
     "data": {
      "text/html": [
       "<div>\n",
       "<table border=\"1\" class=\"dataframe\">\n",
       "  <thead>\n",
       "    <tr style=\"text-align: right;\">\n",
       "      <th></th>\n",
       "      <th>away</th>\n",
       "      <th>awayEvents</th>\n",
       "      <th>date</th>\n",
       "      <th>home</th>\n",
       "      <th>homeEvents</th>\n",
       "      <th>score</th>\n",
       "      <th>home_score</th>\n",
       "      <th>away_score</th>\n",
       "    </tr>\n",
       "  </thead>\n",
       "  <tbody>\n",
       "    <tr>\n",
       "      <th>0</th>\n",
       "      <td>Man Utd</td>\n",
       "      <td>[{u'count': u'1', u'type': u'Goals scored', u'...</td>\n",
       "      <td>14 Aug 19:45</td>\n",
       "      <td>Aston Villa</td>\n",
       "      <td>[{u'count': u'1', u'type': u'Yellow cards', u'...</td>\n",
       "      <td>[0 ,  1]</td>\n",
       "      <td>0</td>\n",
       "      <td>0</td>\n",
       "    </tr>\n",
       "    <tr>\n",
       "      <th>1</th>\n",
       "      <td>Everton</td>\n",
       "      <td>[{u'count': u'1', u'type': u'Goals scored', u'...</td>\n",
       "      <td>15 Aug 12:45</td>\n",
       "      <td>Southampton</td>\n",
       "      <td>[{u'count': u'1', u'type': u'Yellow cards', u'...</td>\n",
       "      <td>[0 ,  3]</td>\n",
       "      <td>0</td>\n",
       "      <td>0</td>\n",
       "    </tr>\n",
       "    <tr>\n",
       "      <th>2</th>\n",
       "      <td>Stoke</td>\n",
       "      <td>[{u'count': u'1', u'type': u'Goals scored', u'...</td>\n",
       "      <td>15 Aug 15:00</td>\n",
       "      <td>Spurs</td>\n",
       "      <td>[{u'count': u'1', u'type': u'Goals scored', u'...</td>\n",
       "      <td>[2 ,  2]</td>\n",
       "      <td>2</td>\n",
       "      <td>2</td>\n",
       "    </tr>\n",
       "    <tr>\n",
       "      <th>3</th>\n",
       "      <td>Norwich</td>\n",
       "      <td>[{u'count': u'1', u'type': u'Goals scored', u'...</td>\n",
       "      <td>15 Aug 15:00</td>\n",
       "      <td>Sunderland</td>\n",
       "      <td>[{u'count': u'1', u'type': u'Goals scored', u'...</td>\n",
       "      <td>[1 ,  3]</td>\n",
       "      <td>1</td>\n",
       "      <td>1</td>\n",
       "    </tr>\n",
       "    <tr>\n",
       "      <th>4</th>\n",
       "      <td>Newcastle</td>\n",
       "      <td>[{u'count': u'1', u'type': u'Yellow cards', u'...</td>\n",
       "      <td>15 Aug 15:00</td>\n",
       "      <td>Swansea</td>\n",
       "      <td>[{u'count': u'1', u'type': u'Goals scored', u'...</td>\n",
       "      <td>[2 ,  0]</td>\n",
       "      <td>2</td>\n",
       "      <td>2</td>\n",
       "    </tr>\n",
       "  </tbody>\n",
       "</table>\n",
       "</div>"
      ],
      "text/plain": [
       "        away                                         awayEvents          date  \\\n",
       "0    Man Utd  [{u'count': u'1', u'type': u'Goals scored', u'...  14 Aug 19:45   \n",
       "1    Everton  [{u'count': u'1', u'type': u'Goals scored', u'...  15 Aug 12:45   \n",
       "2      Stoke  [{u'count': u'1', u'type': u'Goals scored', u'...  15 Aug 15:00   \n",
       "3    Norwich  [{u'count': u'1', u'type': u'Goals scored', u'...  15 Aug 15:00   \n",
       "4  Newcastle  [{u'count': u'1', u'type': u'Yellow cards', u'...  15 Aug 15:00   \n",
       "\n",
       "          home                                         homeEvents     score  \\\n",
       "0  Aston Villa  [{u'count': u'1', u'type': u'Yellow cards', u'...  [0 ,  1]   \n",
       "1  Southampton  [{u'count': u'1', u'type': u'Yellow cards', u'...  [0 ,  3]   \n",
       "2        Spurs  [{u'count': u'1', u'type': u'Goals scored', u'...  [2 ,  2]   \n",
       "3   Sunderland  [{u'count': u'1', u'type': u'Goals scored', u'...  [1 ,  3]   \n",
       "4      Swansea  [{u'count': u'1', u'type': u'Goals scored', u'...  [2 ,  0]   \n",
       "\n",
       "  home_score away_score  \n",
       "0         0          0   \n",
       "1         0          0   \n",
       "2         2          2   \n",
       "3         1          1   \n",
       "4         2          2   "
      ]
     },
     "execution_count": 42,
     "metadata": {},
     "output_type": "execute_result"
    }
   ],
   "source": [
    "def data_cleaning(series):\n",
    "    if 'Events' in series.column:\n",
    "        if 'home' in seres.column:\n",
    "            "
   ]
  },
  {
   "cell_type": "code",
   "execution_count": null,
   "metadata": {
    "collapsed": true
   },
   "outputs": [],
   "source": []
  }
 ],
 "metadata": {
  "kernelspec": {
   "display_name": "Python [dsi]",
   "language": "python",
   "name": "Python [dsi]"
  },
  "language_info": {
   "codemirror_mode": {
    "name": "ipython",
    "version": 2
   },
   "file_extension": ".py",
   "mimetype": "text/x-python",
   "name": "python",
   "nbconvert_exporter": "python",
   "pygments_lexer": "ipython2",
   "version": "2.7.12"
  }
 },
 "nbformat": 4,
 "nbformat_minor": 0
}
