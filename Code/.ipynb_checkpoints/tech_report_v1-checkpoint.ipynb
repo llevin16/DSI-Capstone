{
 "cells": [
  {
   "cell_type": "markdown",
   "metadata": {},
   "source": [
    "Technical report requirements\n",
    "\n",
    "    Clearly defined problem statement/goal.\n",
    "    Description of data, including the source.\n",
    "    Description of relevant data cleaning and munging.\n",
    "        Code included where appropriate.\n",
    "    EDA relevant to your problem statement.\n",
    "        Record of any changes to data informed by EDA.\n",
    "        Record of quality assessment and any assumptions that you are making based on the EDA.\n",
    "    Description of model selection.\n",
    "        This should address why you have selected the model or models to answer your question and why the choice is appropriate.\n",
    "    Well-documented code of modeling you performed to answer your question.\n",
    "    Description of results.\n",
    "        Includes relevant code, metrics, and visualizations that describe your results.\n",
    "        Explanation of all metrics and charts.\n",
    "    Conclusion.\n",
    "        Summarize your findings, addressing the strengths and weaknesses of your approach.\n",
    "        Recommendations and future directions.\n",
    "\n",
    "NOTE: Your code should be well-organized, well-documented, and limited to only the code that is relevant in the report. If you have a lot of parsing/munging code that distracts from the flow of the report you can keep this in another submitted file and mention it or link to it. Make sure to explain why you perform coding steps along the way."
   ]
  },
  {
   "cell_type": "markdown",
   "metadata": {},
   "source": [
    "## Problem Statement/Goal"
   ]
  },
  {
   "cell_type": "markdown",
   "metadata": {},
   "source": [
    "I sought to answer the following question:\n",
    "\n",
    "Is it possible to glean intuitive clusters around soccer strategy from limited data?"
   ]
  },
  {
   "cell_type": "markdown",
   "metadata": {},
   "source": [
    "## Description of Data"
   ]
  },
  {
   "cell_type": "markdown",
   "metadata": {},
   "source": [
    "- Github repositories with high level historical English Premier League data from 2011/2012-2014/2015 seasons\n",
    "- Weather data set from British weather stations between 2011/2012-2014/2015 seasons\n",
    "- SQL Premier League data with detailed information about match events from 2011/2012-2014/2015 seasons\n",
    "- Web-scraped mean data for English Premier League teams from 2011/2012-2014/2015 seasons"
   ]
  },
  {
   "cell_type": "markdown",
   "metadata": {},
   "source": [
    "## Description of relevant data cleaning"
   ]
  },
  {
   "cell_type": "markdown",
   "metadata": {},
   "source": [
    "Haversine....date adjustment....scraping....html parsing"
   ]
  },
  {
   "cell_type": "markdown",
   "metadata": {},
   "source": [
    "## EDA"
   ]
  },
  {
   "cell_type": "markdown",
   "metadata": {},
   "source": [
    "Stadium groupings....scaling...weather descriptions"
   ]
  },
  {
   "cell_type": "markdown",
   "metadata": {},
   "source": [
    "## Model Selection"
   ]
  },
  {
   "cell_type": "markdown",
   "metadata": {},
   "source": [
    "DBSCAN vs. K-means vs. K-modes?"
   ]
  },
  {
   "cell_type": "markdown",
   "metadata": {},
   "source": [
    "## Results"
   ]
  },
  {
   "cell_type": "markdown",
   "metadata": {},
   "source": [
    "Loftus road vs. all others?"
   ]
  },
  {
   "cell_type": "markdown",
   "metadata": {},
   "source": [
    "## Conclusion"
   ]
  },
  {
   "cell_type": "markdown",
   "metadata": {},
   "source": [
    "Not Enough Data"
   ]
  },
  {
   "cell_type": "code",
   "execution_count": null,
   "metadata": {
    "collapsed": true
   },
   "outputs": [],
   "source": []
  }
 ],
 "metadata": {
  "kernelspec": {
   "display_name": "Python [dsi]",
   "language": "python",
   "name": "Python [dsi]"
  },
  "language_info": {
   "codemirror_mode": {
    "name": "ipython",
    "version": 2
   },
   "file_extension": ".py",
   "mimetype": "text/x-python",
   "name": "python",
   "nbconvert_exporter": "python",
   "pygments_lexer": "ipython2",
   "version": "2.7.12"
  }
 },
 "nbformat": 4,
 "nbformat_minor": 0
}
